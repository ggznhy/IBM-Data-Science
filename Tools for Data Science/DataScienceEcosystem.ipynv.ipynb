{
 "cells": [
  {
   "metadata": {},
   "cell_type": "markdown",
   "source": "# Data Science Tools and Ecosystem",
   "id": "3da5d1bc9dcb1a05"
  },
  {
   "metadata": {},
   "cell_type": "markdown",
   "source": "In this notebook, Data Science Tools and Ecosystem are summarized.",
   "id": "4f9576cc99a78b11"
  },
  {
   "metadata": {},
   "cell_type": "markdown",
   "source": [
    "**Objectives:**\n",
    "- List popular languages for Data Science.\n",
    "- Introduce essential libraries and tools used in Data Science.\n",
    "- Explore basic data manipulation and analysis techniques.\n",
    "- Understand the importance of data visualization.\n",
    "- Highlight best practices for documenting and sharing work in Jupyter Notebooks."
   ],
   "id": "9c305831edb142c5"
  },
  {
   "metadata": {},
   "cell_type": "markdown",
   "source": [
    "Some of the popular languages that Data Scientists use are:\n",
    "1. C\n",
    "2. Python\n",
    "3. Java"
   ],
   "id": "a279ac277e7f7743"
  },
  {
   "metadata": {},
   "cell_type": "markdown",
   "source": [
    "Some of the commonly used libraries used by Data Scientists include:\n",
    "1. numpy\n",
    "2. pandas\n",
    "3. scikit-learn"
   ],
   "id": "9db9ea5c6032db74"
  },
  {
   "metadata": {},
   "cell_type": "markdown",
   "source": [
    "| Data Science Tools |\n",
    "|--------------------|\n",
    "| Jupyter Notebook   |\n",
    "| VS Code            |\n",
    "| RStudio            |"
   ],
   "id": "7a4ae71fd2791dc"
  },
  {
   "metadata": {},
   "cell_type": "markdown",
   "source": "### Below are a few examples of evaluating arithmetic expressions in Python",
   "id": "9c9ad564529b0376"
  },
  {
   "metadata": {
    "ExecuteTime": {
     "end_time": "2025-07-13T12:15:39.296124Z",
     "start_time": "2025-07-13T12:15:39.290472Z"
    }
   },
   "cell_type": "code",
   "source": [
    "1# This a simple arithmetic expression to mutiply then add integers\n",
    "(3*4)+5"
   ],
   "id": "9364d4d3c9c5b011",
   "outputs": [
    {
     "data": {
      "text/plain": [
       "17"
      ]
     },
     "execution_count": 1,
     "metadata": {},
     "output_type": "execute_result"
    }
   ],
   "execution_count": 1
  },
  {
   "metadata": {
    "ExecuteTime": {
     "end_time": "2025-07-13T12:27:23.870631Z",
     "start_time": "2025-07-13T12:27:23.865265Z"
    }
   },
   "cell_type": "code",
   "source": [
    "# This will convert 200 minutes to hours by diving by 60.\n",
    "round(200 / 60.0, 2)"
   ],
   "id": "cd1bbe4cfd1ca25c",
   "outputs": [
    {
     "data": {
      "text/plain": [
       "3.33"
      ]
     },
     "execution_count": 5,
     "metadata": {},
     "output_type": "execute_result"
    }
   ],
   "execution_count": 5
  },
  {
   "metadata": {},
   "cell_type": "markdown",
   "source": [
    "## Author:\n",
    "Zhongguan(Ryan) Wen"
   ],
   "id": "30a155b4dc3bf7de"
  }
 ],
 "metadata": {
  "kernelspec": {
   "display_name": "Python 3",
   "language": "python",
   "name": "python3"
  },
  "language_info": {
   "codemirror_mode": {
    "name": "ipython",
    "version": 2
   },
   "file_extension": ".py",
   "mimetype": "text/x-python",
   "name": "python",
   "nbconvert_exporter": "python",
   "pygments_lexer": "ipython2",
   "version": "2.7.6"
  }
 },
 "nbformat": 4,
 "nbformat_minor": 5
}
